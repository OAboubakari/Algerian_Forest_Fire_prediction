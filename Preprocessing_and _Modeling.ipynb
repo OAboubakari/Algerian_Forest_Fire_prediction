{
 "cells": [
  {
   "cell_type": "markdown",
   "id": "prescription-grill",
   "metadata": {},
   "source": [
    "## Preprocessing and Modeling\n"
   ]
  },
  {
   "cell_type": "markdown",
   "id": "varying-contents",
   "metadata": {},
   "source": [
    "* Task :\n",
    "    Then perform necessary preprocessing steps\n",
    "\n",
    "1. **REGRESSION**<br>\n",
    "Then create a classification and regression model for a given dataset.\n",
    "For regression use linear regression, ridge regression and lasso regression, SVR, Decision tree regressor and random forest regressor along with cross validation and hyperparameter tuning.Try to showcase the MSE value for each model and try to find out the best possible model based on the R2 value.\n"
   ]
  },
  {
   "cell_type": "code",
   "execution_count": 14,
   "id": "dominant-dryer",
   "metadata": {},
   "outputs": [],
   "source": [
    "#importing libraries\n",
    "import pandas as pd\n",
    "import matplotlib.pyplot as plt\n",
    "import numpy as np\n",
    "import seaborn as sns\n",
    "from sklearn.linear_model import LinearRegression,Lasso\n",
    "from sklearn.svm import SVR\n",
    "from sklearn.tree import DecisionTreeRegressor\n",
    "from sklearn.ensemble import RandomForestRegressor\n",
    "from sklearn.model_selection import train_test_split\n",
    "from sklearn.preprocessing import StandardScaler\n",
    "from sklearn.metrics import mean_squared_error,r2_score\n",
    "%matplotlib inline\n"
   ]
  },
  {
   "cell_type": "markdown",
   "id": "another-coast",
   "metadata": {},
   "source": [
    "### Importing cleaned dataset"
   ]
  },
  {
   "cell_type": "code",
   "execution_count": 4,
   "id": "seventh-mouse",
   "metadata": {},
   "outputs": [],
   "source": [
    "data = pd.read_csv('Algerian_forest_fires_data_CLEAN.csv')"
   ]
  },
  {
   "cell_type": "code",
   "execution_count": 5,
   "id": "korean-graduate",
   "metadata": {},
   "outputs": [
    {
     "data": {
      "text/html": [
       "<div>\n",
       "<style scoped>\n",
       "    .dataframe tbody tr th:only-of-type {\n",
       "        vertical-align: middle;\n",
       "    }\n",
       "\n",
       "    .dataframe tbody tr th {\n",
       "        vertical-align: top;\n",
       "    }\n",
       "\n",
       "    .dataframe thead th {\n",
       "        text-align: right;\n",
       "    }\n",
       "</style>\n",
       "<table border=\"1\" class=\"dataframe\">\n",
       "  <thead>\n",
       "    <tr style=\"text-align: right;\">\n",
       "      <th></th>\n",
       "      <th>Temperature</th>\n",
       "      <th>RH</th>\n",
       "      <th>Ws</th>\n",
       "      <th>Rain</th>\n",
       "      <th>FFMC</th>\n",
       "      <th>DMC</th>\n",
       "      <th>DC</th>\n",
       "      <th>ISI</th>\n",
       "      <th>BUI</th>\n",
       "      <th>FWI</th>\n",
       "      <th>Classes</th>\n",
       "      <th>Region</th>\n",
       "    </tr>\n",
       "  </thead>\n",
       "  <tbody>\n",
       "    <tr>\n",
       "      <th>0</th>\n",
       "      <td>29</td>\n",
       "      <td>57</td>\n",
       "      <td>18</td>\n",
       "      <td>0.0</td>\n",
       "      <td>65.7</td>\n",
       "      <td>3.4</td>\n",
       "      <td>7.6</td>\n",
       "      <td>1.3</td>\n",
       "      <td>3.4</td>\n",
       "      <td>0.5</td>\n",
       "      <td>0</td>\n",
       "      <td>1</td>\n",
       "    </tr>\n",
       "    <tr>\n",
       "      <th>1</th>\n",
       "      <td>29</td>\n",
       "      <td>61</td>\n",
       "      <td>13</td>\n",
       "      <td>1.3</td>\n",
       "      <td>64.4</td>\n",
       "      <td>4.1</td>\n",
       "      <td>7.6</td>\n",
       "      <td>1.0</td>\n",
       "      <td>3.9</td>\n",
       "      <td>0.4</td>\n",
       "      <td>0</td>\n",
       "      <td>1</td>\n",
       "    </tr>\n",
       "    <tr>\n",
       "      <th>2</th>\n",
       "      <td>26</td>\n",
       "      <td>82</td>\n",
       "      <td>22</td>\n",
       "      <td>13.1</td>\n",
       "      <td>47.1</td>\n",
       "      <td>2.5</td>\n",
       "      <td>7.1</td>\n",
       "      <td>0.3</td>\n",
       "      <td>2.7</td>\n",
       "      <td>0.1</td>\n",
       "      <td>0</td>\n",
       "      <td>1</td>\n",
       "    </tr>\n",
       "    <tr>\n",
       "      <th>3</th>\n",
       "      <td>25</td>\n",
       "      <td>89</td>\n",
       "      <td>13</td>\n",
       "      <td>2.5</td>\n",
       "      <td>28.6</td>\n",
       "      <td>1.3</td>\n",
       "      <td>6.9</td>\n",
       "      <td>0.0</td>\n",
       "      <td>1.7</td>\n",
       "      <td>0.0</td>\n",
       "      <td>0</td>\n",
       "      <td>1</td>\n",
       "    </tr>\n",
       "    <tr>\n",
       "      <th>4</th>\n",
       "      <td>27</td>\n",
       "      <td>77</td>\n",
       "      <td>16</td>\n",
       "      <td>0.0</td>\n",
       "      <td>64.8</td>\n",
       "      <td>3.0</td>\n",
       "      <td>14.2</td>\n",
       "      <td>1.2</td>\n",
       "      <td>3.9</td>\n",
       "      <td>0.5</td>\n",
       "      <td>0</td>\n",
       "      <td>1</td>\n",
       "    </tr>\n",
       "    <tr>\n",
       "      <th>...</th>\n",
       "      <td>...</td>\n",
       "      <td>...</td>\n",
       "      <td>...</td>\n",
       "      <td>...</td>\n",
       "      <td>...</td>\n",
       "      <td>...</td>\n",
       "      <td>...</td>\n",
       "      <td>...</td>\n",
       "      <td>...</td>\n",
       "      <td>...</td>\n",
       "      <td>...</td>\n",
       "      <td>...</td>\n",
       "    </tr>\n",
       "    <tr>\n",
       "      <th>238</th>\n",
       "      <td>30</td>\n",
       "      <td>65</td>\n",
       "      <td>14</td>\n",
       "      <td>0.0</td>\n",
       "      <td>85.4</td>\n",
       "      <td>16.0</td>\n",
       "      <td>44.5</td>\n",
       "      <td>4.5</td>\n",
       "      <td>16.9</td>\n",
       "      <td>6.5</td>\n",
       "      <td>1</td>\n",
       "      <td>2</td>\n",
       "    </tr>\n",
       "    <tr>\n",
       "      <th>239</th>\n",
       "      <td>28</td>\n",
       "      <td>87</td>\n",
       "      <td>15</td>\n",
       "      <td>4.4</td>\n",
       "      <td>41.1</td>\n",
       "      <td>6.5</td>\n",
       "      <td>8.0</td>\n",
       "      <td>0.1</td>\n",
       "      <td>6.2</td>\n",
       "      <td>0.0</td>\n",
       "      <td>0</td>\n",
       "      <td>2</td>\n",
       "    </tr>\n",
       "    <tr>\n",
       "      <th>240</th>\n",
       "      <td>27</td>\n",
       "      <td>87</td>\n",
       "      <td>29</td>\n",
       "      <td>0.5</td>\n",
       "      <td>45.9</td>\n",
       "      <td>3.5</td>\n",
       "      <td>7.9</td>\n",
       "      <td>0.4</td>\n",
       "      <td>3.4</td>\n",
       "      <td>0.2</td>\n",
       "      <td>0</td>\n",
       "      <td>2</td>\n",
       "    </tr>\n",
       "    <tr>\n",
       "      <th>241</th>\n",
       "      <td>24</td>\n",
       "      <td>54</td>\n",
       "      <td>18</td>\n",
       "      <td>0.1</td>\n",
       "      <td>79.7</td>\n",
       "      <td>4.3</td>\n",
       "      <td>15.2</td>\n",
       "      <td>1.7</td>\n",
       "      <td>5.1</td>\n",
       "      <td>0.7</td>\n",
       "      <td>0</td>\n",
       "      <td>2</td>\n",
       "    </tr>\n",
       "    <tr>\n",
       "      <th>242</th>\n",
       "      <td>24</td>\n",
       "      <td>64</td>\n",
       "      <td>15</td>\n",
       "      <td>0.2</td>\n",
       "      <td>67.3</td>\n",
       "      <td>3.8</td>\n",
       "      <td>16.5</td>\n",
       "      <td>1.2</td>\n",
       "      <td>4.8</td>\n",
       "      <td>0.5</td>\n",
       "      <td>0</td>\n",
       "      <td>2</td>\n",
       "    </tr>\n",
       "  </tbody>\n",
       "</table>\n",
       "<p>243 rows × 12 columns</p>\n",
       "</div>"
      ],
      "text/plain": [
       "     Temperature  RH  Ws  Rain  FFMC   DMC    DC  ISI   BUI  FWI  Classes  \\\n",
       "0             29  57  18   0.0  65.7   3.4   7.6  1.3   3.4  0.5        0   \n",
       "1             29  61  13   1.3  64.4   4.1   7.6  1.0   3.9  0.4        0   \n",
       "2             26  82  22  13.1  47.1   2.5   7.1  0.3   2.7  0.1        0   \n",
       "3             25  89  13   2.5  28.6   1.3   6.9  0.0   1.7  0.0        0   \n",
       "4             27  77  16   0.0  64.8   3.0  14.2  1.2   3.9  0.5        0   \n",
       "..           ...  ..  ..   ...   ...   ...   ...  ...   ...  ...      ...   \n",
       "238           30  65  14   0.0  85.4  16.0  44.5  4.5  16.9  6.5        1   \n",
       "239           28  87  15   4.4  41.1   6.5   8.0  0.1   6.2  0.0        0   \n",
       "240           27  87  29   0.5  45.9   3.5   7.9  0.4   3.4  0.2        0   \n",
       "241           24  54  18   0.1  79.7   4.3  15.2  1.7   5.1  0.7        0   \n",
       "242           24  64  15   0.2  67.3   3.8  16.5  1.2   4.8  0.5        0   \n",
       "\n",
       "     Region  \n",
       "0         1  \n",
       "1         1  \n",
       "2         1  \n",
       "3         1  \n",
       "4         1  \n",
       "..      ...  \n",
       "238       2  \n",
       "239       2  \n",
       "240       2  \n",
       "241       2  \n",
       "242       2  \n",
       "\n",
       "[243 rows x 12 columns]"
      ]
     },
     "execution_count": 5,
     "metadata": {},
     "output_type": "execute_result"
    }
   ],
   "source": [
    "data"
   ]
  },
  {
   "cell_type": "markdown",
   "id": "bronze-overall",
   "metadata": {},
   "source": [
    "### Splitting dataset"
   ]
  },
  {
   "cell_type": "code",
   "execution_count": 6,
   "id": "martial-michael",
   "metadata": {},
   "outputs": [],
   "source": [
    "X = data.drop(['FWI'], axis=1)\n",
    "y = data['FWI']"
   ]
  },
  {
   "cell_type": "code",
   "execution_count": 8,
   "id": "chronic-charleston",
   "metadata": {},
   "outputs": [],
   "source": [
    "X_train,X_test,y_train,y_test = train_test_split(X,y , test_size=0.3 , random_state=43)"
   ]
  },
  {
   "cell_type": "code",
   "execution_count": 9,
   "id": "working-exception",
   "metadata": {},
   "outputs": [
    {
     "data": {
      "text/plain": [
       "((170, 11), (73, 11))"
      ]
     },
     "execution_count": 9,
     "metadata": {},
     "output_type": "execute_result"
    }
   ],
   "source": [
    "X_train.shape , X_test.shape"
   ]
  },
  {
   "cell_type": "markdown",
   "id": "applied-hampton",
   "metadata": {},
   "source": [
    "### Multicolinearity handling"
   ]
  },
  {
   "cell_type": "code",
   "execution_count": 16,
   "id": "hindu-myrtle",
   "metadata": {},
   "outputs": [
    {
     "data": {
      "text/html": [
       "<style  type=\"text/css\" >\n",
       "#T_950f5_row0_col0,#T_950f5_row1_col1,#T_950f5_row2_col2,#T_950f5_row3_col3,#T_950f5_row4_col4,#T_950f5_row5_col5,#T_950f5_row6_col6,#T_950f5_row7_col7,#T_950f5_row8_col8,#T_950f5_row9_col9,#T_950f5_row10_col10{\n",
       "            background-color:  #b40426;\n",
       "            color:  #f1f1f1;\n",
       "        }#T_950f5_row0_col1{\n",
       "            background-color:  #4358cb;\n",
       "            color:  #f1f1f1;\n",
       "        }#T_950f5_row0_col2,#T_950f5_row1_col0,#T_950f5_row1_col4,#T_950f5_row1_col5,#T_950f5_row1_col7,#T_950f5_row1_col8,#T_950f5_row1_col9,#T_950f5_row1_col10,#T_950f5_row3_col6,#T_950f5_row4_col3,#T_950f5_row7_col1{\n",
       "            background-color:  #3b4cc0;\n",
       "            color:  #f1f1f1;\n",
       "        }#T_950f5_row0_col3{\n",
       "            background-color:  #6687ed;\n",
       "            color:  #000000;\n",
       "        }#T_950f5_row0_col4,#T_950f5_row7_col9{\n",
       "            background-color:  #eb7d62;\n",
       "            color:  #000000;\n",
       "        }#T_950f5_row0_col5{\n",
       "            background-color:  #f5c1a9;\n",
       "            color:  #000000;\n",
       "        }#T_950f5_row0_col6,#T_950f5_row1_col3{\n",
       "            background-color:  #e1dad6;\n",
       "            color:  #000000;\n",
       "        }#T_950f5_row0_col7{\n",
       "            background-color:  #f18f71;\n",
       "            color:  #000000;\n",
       "        }#T_950f5_row0_col8{\n",
       "            background-color:  #f2cab5;\n",
       "            color:  #000000;\n",
       "        }#T_950f5_row0_col9,#T_950f5_row6_col4,#T_950f5_row9_col5{\n",
       "            background-color:  #f7b093;\n",
       "            color:  #000000;\n",
       "        }#T_950f5_row0_col10{\n",
       "            background-color:  #dbdcde;\n",
       "            color:  #000000;\n",
       "        }#T_950f5_row1_col2{\n",
       "            background-color:  #e0dbd8;\n",
       "            color:  #000000;\n",
       "        }#T_950f5_row1_col6{\n",
       "            background-color:  #4961d2;\n",
       "            color:  #f1f1f1;\n",
       "        }#T_950f5_row2_col0,#T_950f5_row5_col1,#T_950f5_row8_col3{\n",
       "            background-color:  #7699f6;\n",
       "            color:  #000000;\n",
       "        }#T_950f5_row2_col1{\n",
       "            background-color:  #f3c7b1;\n",
       "            color:  #000000;\n",
       "        }#T_950f5_row2_col3{\n",
       "            background-color:  #dedcdb;\n",
       "            color:  #000000;\n",
       "        }#T_950f5_row2_col4,#T_950f5_row8_col2{\n",
       "            background-color:  #88abfd;\n",
       "            color:  #000000;\n",
       "        }#T_950f5_row2_col5,#T_950f5_row6_col10{\n",
       "            background-color:  #8badfd;\n",
       "            color:  #000000;\n",
       "        }#T_950f5_row2_col6{\n",
       "            background-color:  #85a8fc;\n",
       "            color:  #000000;\n",
       "        }#T_950f5_row2_col7{\n",
       "            background-color:  #bad0f8;\n",
       "            color:  #000000;\n",
       "        }#T_950f5_row2_col8{\n",
       "            background-color:  #86a9fc;\n",
       "            color:  #000000;\n",
       "        }#T_950f5_row2_col9{\n",
       "            background-color:  #7da0f9;\n",
       "            color:  #000000;\n",
       "        }#T_950f5_row2_col10,#T_950f5_row10_col1{\n",
       "            background-color:  #6c8ff1;\n",
       "            color:  #000000;\n",
       "        }#T_950f5_row3_col0,#T_950f5_row5_col3{\n",
       "            background-color:  #779af7;\n",
       "            color:  #000000;\n",
       "        }#T_950f5_row3_col1{\n",
       "            background-color:  #ebd3c6;\n",
       "            color:  #000000;\n",
       "        }#T_950f5_row3_col2,#T_950f5_row9_col10{\n",
       "            background-color:  #c7d7f0;\n",
       "            color:  #000000;\n",
       "        }#T_950f5_row3_col4{\n",
       "            background-color:  #4e68d8;\n",
       "            color:  #000000;\n",
       "        }#T_950f5_row3_col5{\n",
       "            background-color:  #5572df;\n",
       "            color:  #000000;\n",
       "        }#T_950f5_row3_col7{\n",
       "            background-color:  #80a3fa;\n",
       "            color:  #000000;\n",
       "        }#T_950f5_row3_col8{\n",
       "            background-color:  #485fd1;\n",
       "            color:  #f1f1f1;\n",
       "        }#T_950f5_row3_col9{\n",
       "            background-color:  #4c66d6;\n",
       "            color:  #000000;\n",
       "        }#T_950f5_row3_col10{\n",
       "            background-color:  #8db0fe;\n",
       "            color:  #000000;\n",
       "        }#T_950f5_row4_col0{\n",
       "            background-color:  #ec7f63;\n",
       "            color:  #000000;\n",
       "        }#T_950f5_row4_col1{\n",
       "            background-color:  #4055c8;\n",
       "            color:  #f1f1f1;\n",
       "        }#T_950f5_row4_col2{\n",
       "            background-color:  #4a63d3;\n",
       "            color:  #f1f1f1;\n",
       "        }#T_950f5_row4_col5,#T_950f5_row8_col9{\n",
       "            background-color:  #f7ad90;\n",
       "            color:  #000000;\n",
       "        }#T_950f5_row4_col6{\n",
       "            background-color:  #f1ccb8;\n",
       "            color:  #000000;\n",
       "        }#T_950f5_row4_col7,#T_950f5_row4_col9{\n",
       "            background-color:  #e46e56;\n",
       "            color:  #000000;\n",
       "        }#T_950f5_row4_col8{\n",
       "            background-color:  #f7b599;\n",
       "            color:  #000000;\n",
       "        }#T_950f5_row4_col10{\n",
       "            background-color:  #d3dbe7;\n",
       "            color:  #000000;\n",
       "        }#T_950f5_row5_col0{\n",
       "            background-color:  #f7af91;\n",
       "            color:  #000000;\n",
       "        }#T_950f5_row5_col2{\n",
       "            background-color:  #82a6fb;\n",
       "            color:  #000000;\n",
       "        }#T_950f5_row5_col4{\n",
       "            background-color:  #f49a7b;\n",
       "            color:  #000000;\n",
       "        }#T_950f5_row5_col6{\n",
       "            background-color:  #d55042;\n",
       "            color:  #000000;\n",
       "        }#T_950f5_row5_col7{\n",
       "            background-color:  #ed8366;\n",
       "            color:  #000000;\n",
       "        }#T_950f5_row5_col8{\n",
       "            background-color:  #b8122a;\n",
       "            color:  #f1f1f1;\n",
       "        }#T_950f5_row5_col9{\n",
       "            background-color:  #f7a98b;\n",
       "            color:  #000000;\n",
       "        }#T_950f5_row5_col10{\n",
       "            background-color:  #cfdaea;\n",
       "            color:  #000000;\n",
       "        }#T_950f5_row6_col0{\n",
       "            background-color:  #f5c4ac;\n",
       "            color:  #000000;\n",
       "        }#T_950f5_row6_col1{\n",
       "            background-color:  #98b9ff;\n",
       "            color:  #000000;\n",
       "        }#T_950f5_row6_col2{\n",
       "            background-color:  #93b5fe;\n",
       "            color:  #000000;\n",
       "        }#T_950f5_row6_col3{\n",
       "            background-color:  #7597f6;\n",
       "            color:  #000000;\n",
       "        }#T_950f5_row6_col5{\n",
       "            background-color:  #d24b40;\n",
       "            color:  #f1f1f1;\n",
       "        }#T_950f5_row6_col7{\n",
       "            background-color:  #f7aa8c;\n",
       "            color:  #000000;\n",
       "        }#T_950f5_row6_col8{\n",
       "            background-color:  #c12b30;\n",
       "            color:  #f1f1f1;\n",
       "        }#T_950f5_row6_col9{\n",
       "            background-color:  #f6bfa6;\n",
       "            color:  #000000;\n",
       "        }#T_950f5_row7_col0{\n",
       "            background-color:  #f29072;\n",
       "            color:  #000000;\n",
       "        }#T_950f5_row7_col2,#T_950f5_row8_col1{\n",
       "            background-color:  #81a4fb;\n",
       "            color:  #000000;\n",
       "        }#T_950f5_row7_col3{\n",
       "            background-color:  #6788ee;\n",
       "            color:  #000000;\n",
       "        }#T_950f5_row7_col4,#T_950f5_row9_col7{\n",
       "            background-color:  #e57058;\n",
       "            color:  #000000;\n",
       "        }#T_950f5_row7_col5{\n",
       "            background-color:  #f39577;\n",
       "            color:  #000000;\n",
       "        }#T_950f5_row7_col6{\n",
       "            background-color:  #f2c9b4;\n",
       "            color:  #000000;\n",
       "        }#T_950f5_row7_col8{\n",
       "            background-color:  #f7a688;\n",
       "            color:  #000000;\n",
       "        }#T_950f5_row7_col10{\n",
       "            background-color:  #dddcdc;\n",
       "            color:  #000000;\n",
       "        }#T_950f5_row8_col0{\n",
       "            background-color:  #f7b497;\n",
       "            color:  #000000;\n",
       "        }#T_950f5_row8_col4{\n",
       "            background-color:  #f59d7e;\n",
       "            color:  #000000;\n",
       "        }#T_950f5_row8_col5{\n",
       "            background-color:  #b70d28;\n",
       "            color:  #f1f1f1;\n",
       "        }#T_950f5_row8_col6{\n",
       "            background-color:  #c32e31;\n",
       "            color:  #f1f1f1;\n",
       "        }#T_950f5_row8_col7{\n",
       "            background-color:  #f18d6f;\n",
       "            color:  #000000;\n",
       "        }#T_950f5_row8_col10{\n",
       "            background-color:  #b9d0f9;\n",
       "            color:  #000000;\n",
       "        }#T_950f5_row9_col0{\n",
       "            background-color:  #f6a385;\n",
       "            color:  #000000;\n",
       "        }#T_950f5_row9_col1{\n",
       "            background-color:  #6485ec;\n",
       "            color:  #000000;\n",
       "        }#T_950f5_row9_col2{\n",
       "            background-color:  #6384eb;\n",
       "            color:  #000000;\n",
       "        }#T_950f5_row9_col3{\n",
       "            background-color:  #5e7de7;\n",
       "            color:  #000000;\n",
       "        }#T_950f5_row9_col4{\n",
       "            background-color:  #e0654f;\n",
       "            color:  #000000;\n",
       "        }#T_950f5_row9_col6{\n",
       "            background-color:  #f1cdba;\n",
       "            color:  #000000;\n",
       "        }#T_950f5_row9_col8{\n",
       "            background-color:  #f7b79b;\n",
       "            color:  #000000;\n",
       "        }#T_950f5_row10_col0{\n",
       "            background-color:  #ecd3c5;\n",
       "            color:  #000000;\n",
       "        }#T_950f5_row10_col2{\n",
       "            background-color:  #5a78e4;\n",
       "            color:  #000000;\n",
       "        }#T_950f5_row10_col3{\n",
       "            background-color:  #a3c2fe;\n",
       "            color:  #000000;\n",
       "        }#T_950f5_row10_col4{\n",
       "            background-color:  #e6d7cf;\n",
       "            color:  #000000;\n",
       "        }#T_950f5_row10_col5{\n",
       "            background-color:  #cad8ef;\n",
       "            color:  #000000;\n",
       "        }#T_950f5_row10_col6{\n",
       "            background-color:  #6b8df0;\n",
       "            color:  #000000;\n",
       "        }#T_950f5_row10_col7{\n",
       "            background-color:  #efcfbf;\n",
       "            color:  #000000;\n",
       "        }#T_950f5_row10_col8{\n",
       "            background-color:  #a9c6fd;\n",
       "            color:  #000000;\n",
       "        }#T_950f5_row10_col9{\n",
       "            background-color:  #ccd9ed;\n",
       "            color:  #000000;\n",
       "        }</style><table id=\"T_950f5_\" ><thead>    <tr>        <th class=\"blank level0\" ></th>        <th class=\"col_heading level0 col0\" >Temperature</th>        <th class=\"col_heading level0 col1\" >RH</th>        <th class=\"col_heading level0 col2\" >Ws</th>        <th class=\"col_heading level0 col3\" >Rain</th>        <th class=\"col_heading level0 col4\" >FFMC</th>        <th class=\"col_heading level0 col5\" >DMC</th>        <th class=\"col_heading level0 col6\" >DC</th>        <th class=\"col_heading level0 col7\" >ISI</th>        <th class=\"col_heading level0 col8\" >BUI</th>        <th class=\"col_heading level0 col9\" >Classes</th>        <th class=\"col_heading level0 col10\" >Region</th>    </tr></thead><tbody>\n",
       "                <tr>\n",
       "                        <th id=\"T_950f5_level0_row0\" class=\"row_heading level0 row0\" >Temperature</th>\n",
       "                        <td id=\"T_950f5_row0_col0\" class=\"data row0 col0\" >1.000000</td>\n",
       "                        <td id=\"T_950f5_row0_col1\" class=\"data row0 col1\" >-0.648906</td>\n",
       "                        <td id=\"T_950f5_row0_col2\" class=\"data row0 col2\" >-0.342813</td>\n",
       "                        <td id=\"T_950f5_row0_col3\" class=\"data row0 col3\" >-0.339154</td>\n",
       "                        <td id=\"T_950f5_row0_col4\" class=\"data row0 col4\" >0.690252</td>\n",
       "                        <td id=\"T_950f5_row0_col5\" class=\"data row0 col5\" >0.494019</td>\n",
       "                        <td id=\"T_950f5_row0_col6\" class=\"data row0 col6\" >0.387230</td>\n",
       "                        <td id=\"T_950f5_row0_col7\" class=\"data row0 col7\" >0.620408</td>\n",
       "                        <td id=\"T_950f5_row0_col8\" class=\"data row0 col8\" >0.469073</td>\n",
       "                        <td id=\"T_950f5_row0_col9\" class=\"data row0 col9\" >0.545191</td>\n",
       "                        <td id=\"T_950f5_row0_col10\" class=\"data row0 col10\" >0.280393</td>\n",
       "            </tr>\n",
       "            <tr>\n",
       "                        <th id=\"T_950f5_level0_row1\" class=\"row_heading level0 row1\" >RH</th>\n",
       "                        <td id=\"T_950f5_row1_col0\" class=\"data row1 col0\" >-0.648906</td>\n",
       "                        <td id=\"T_950f5_row1_col1\" class=\"data row1 col1\" >1.000000</td>\n",
       "                        <td id=\"T_950f5_row1_col2\" class=\"data row1 col2\" >0.345667</td>\n",
       "                        <td id=\"T_950f5_row1_col3\" class=\"data row1 col3\" >0.251604</td>\n",
       "                        <td id=\"T_950f5_row1_col4\" class=\"data row1 col4\" >-0.664507</td>\n",
       "                        <td id=\"T_950f5_row1_col5\" class=\"data row1 col5\" >-0.385380</td>\n",
       "                        <td id=\"T_950f5_row1_col6\" class=\"data row1 col6\" >-0.214897</td>\n",
       "                        <td id=\"T_950f5_row1_col7\" class=\"data row1 col7\" >-0.698720</td>\n",
       "                        <td id=\"T_950f5_row1_col8\" class=\"data row1 col8\" >-0.332961</td>\n",
       "                        <td id=\"T_950f5_row1_col9\" class=\"data row1 col9\" >-0.466885</td>\n",
       "                        <td id=\"T_950f5_row1_col10\" class=\"data row1 col10\" >-0.428045</td>\n",
       "            </tr>\n",
       "            <tr>\n",
       "                        <th id=\"T_950f5_level0_row2\" class=\"row_heading level0 row2\" >Ws</th>\n",
       "                        <td id=\"T_950f5_row2_col0\" class=\"data row2 col0\" >-0.342813</td>\n",
       "                        <td id=\"T_950f5_row2_col1\" class=\"data row2 col1\" >0.345667</td>\n",
       "                        <td id=\"T_950f5_row2_col2\" class=\"data row2 col2\" >1.000000</td>\n",
       "                        <td id=\"T_950f5_row2_col3\" class=\"data row2 col3\" >0.228688</td>\n",
       "                        <td id=\"T_950f5_row2_col4\" class=\"data row2 col4\" >-0.273050</td>\n",
       "                        <td id=\"T_950f5_row2_col5\" class=\"data row2 col5\" >-0.047916</td>\n",
       "                        <td id=\"T_950f5_row2_col6\" class=\"data row2 col6\" >0.017331</td>\n",
       "                        <td id=\"T_950f5_row2_col7\" class=\"data row2 col7\" >-0.051706</td>\n",
       "                        <td id=\"T_950f5_row2_col8\" class=\"data row2 col8\" >-0.024274</td>\n",
       "                        <td id=\"T_950f5_row2_col9\" class=\"data row2 col9\" >-0.165150</td>\n",
       "                        <td id=\"T_950f5_row2_col10\" class=\"data row2 col10\" >-0.204352</td>\n",
       "            </tr>\n",
       "            <tr>\n",
       "                        <th id=\"T_950f5_level0_row3\" class=\"row_heading level0 row3\" >Rain</th>\n",
       "                        <td id=\"T_950f5_row3_col0\" class=\"data row3 col0\" >-0.339154</td>\n",
       "                        <td id=\"T_950f5_row3_col1\" class=\"data row3 col1\" >0.251604</td>\n",
       "                        <td id=\"T_950f5_row3_col2\" class=\"data row3 col2\" >0.228688</td>\n",
       "                        <td id=\"T_950f5_row3_col3\" class=\"data row3 col3\" >1.000000</td>\n",
       "                        <td id=\"T_950f5_row3_col4\" class=\"data row3 col4\" >-0.557413</td>\n",
       "                        <td id=\"T_950f5_row3_col5\" class=\"data row3 col5\" >-0.261067</td>\n",
       "                        <td id=\"T_950f5_row3_col6\" class=\"data row3 col6\" >-0.275297</td>\n",
       "                        <td id=\"T_950f5_row3_col7\" class=\"data row3 col7\" >-0.337277</td>\n",
       "                        <td id=\"T_950f5_row3_col8\" class=\"data row3 col8\" >-0.271218</td>\n",
       "                        <td id=\"T_950f5_row3_col9\" class=\"data row3 col9\" >-0.379779</td>\n",
       "                        <td id=\"T_950f5_row3_col10\" class=\"data row3 col10\" >-0.069696</td>\n",
       "            </tr>\n",
       "            <tr>\n",
       "                        <th id=\"T_950f5_level0_row4\" class=\"row_heading level0 row4\" >FFMC</th>\n",
       "                        <td id=\"T_950f5_row4_col0\" class=\"data row4 col0\" >0.690252</td>\n",
       "                        <td id=\"T_950f5_row4_col1\" class=\"data row4 col1\" >-0.664507</td>\n",
       "                        <td id=\"T_950f5_row4_col2\" class=\"data row4 col2\" >-0.273050</td>\n",
       "                        <td id=\"T_950f5_row4_col3\" class=\"data row4 col3\" >-0.557413</td>\n",
       "                        <td id=\"T_950f5_row4_col4\" class=\"data row4 col4\" >1.000000</td>\n",
       "                        <td id=\"T_950f5_row4_col5\" class=\"data row4 col5\" >0.580391</td>\n",
       "                        <td id=\"T_950f5_row4_col6\" class=\"data row4 col6\" >0.484454</td>\n",
       "                        <td id=\"T_950f5_row4_col7\" class=\"data row4 col7\" >0.739544</td>\n",
       "                        <td id=\"T_950f5_row4_col8\" class=\"data row4 col8\" >0.564666</td>\n",
       "                        <td id=\"T_950f5_row4_col9\" class=\"data row4 col9\" >0.776082</td>\n",
       "                        <td id=\"T_950f5_row4_col10\" class=\"data row4 col10\" >0.232271</td>\n",
       "            </tr>\n",
       "            <tr>\n",
       "                        <th id=\"T_950f5_level0_row5\" class=\"row_heading level0 row5\" >DMC</th>\n",
       "                        <td id=\"T_950f5_row5_col0\" class=\"data row5 col0\" >0.494019</td>\n",
       "                        <td id=\"T_950f5_row5_col1\" class=\"data row5 col1\" >-0.385380</td>\n",
       "                        <td id=\"T_950f5_row5_col2\" class=\"data row5 col2\" >-0.047916</td>\n",
       "                        <td id=\"T_950f5_row5_col3\" class=\"data row5 col3\" >-0.261067</td>\n",
       "                        <td id=\"T_950f5_row5_col4\" class=\"data row5 col4\" >0.580391</td>\n",
       "                        <td id=\"T_950f5_row5_col5\" class=\"data row5 col5\" >1.000000</td>\n",
       "                        <td id=\"T_950f5_row5_col6\" class=\"data row5 col6\" >0.879519</td>\n",
       "                        <td id=\"T_950f5_row5_col7\" class=\"data row5 col7\" >0.666973</td>\n",
       "                        <td id=\"T_950f5_row5_col8\" class=\"data row5 col8\" >0.984028</td>\n",
       "                        <td id=\"T_950f5_row5_col9\" class=\"data row5 col9\" >0.572174</td>\n",
       "                        <td id=\"T_950f5_row5_col10\" class=\"data row5 col10\" >0.214006</td>\n",
       "            </tr>\n",
       "            <tr>\n",
       "                        <th id=\"T_950f5_level0_row6\" class=\"row_heading level0 row6\" >DC</th>\n",
       "                        <td id=\"T_950f5_row6_col0\" class=\"data row6 col0\" >0.387230</td>\n",
       "                        <td id=\"T_950f5_row6_col1\" class=\"data row6 col1\" >-0.214897</td>\n",
       "                        <td id=\"T_950f5_row6_col2\" class=\"data row6 col2\" >0.017331</td>\n",
       "                        <td id=\"T_950f5_row6_col3\" class=\"data row6 col3\" >-0.275297</td>\n",
       "                        <td id=\"T_950f5_row6_col4\" class=\"data row6 col4\" >0.484454</td>\n",
       "                        <td id=\"T_950f5_row6_col5\" class=\"data row6 col5\" >0.879519</td>\n",
       "                        <td id=\"T_950f5_row6_col6\" class=\"data row6 col6\" >1.000000</td>\n",
       "                        <td id=\"T_950f5_row6_col7\" class=\"data row6 col7\" >0.498232</td>\n",
       "                        <td id=\"T_950f5_row6_col8\" class=\"data row6 col8\" >0.948133</td>\n",
       "                        <td id=\"T_950f5_row6_col9\" class=\"data row6 col9\" >0.478165</td>\n",
       "                        <td id=\"T_950f5_row6_col10\" class=\"data row6 col10\" >-0.080107</td>\n",
       "            </tr>\n",
       "            <tr>\n",
       "                        <th id=\"T_950f5_level0_row7\" class=\"row_heading level0 row7\" >ISI</th>\n",
       "                        <td id=\"T_950f5_row7_col0\" class=\"data row7 col0\" >0.620408</td>\n",
       "                        <td id=\"T_950f5_row7_col1\" class=\"data row7 col1\" >-0.698720</td>\n",
       "                        <td id=\"T_950f5_row7_col2\" class=\"data row7 col2\" >-0.051706</td>\n",
       "                        <td id=\"T_950f5_row7_col3\" class=\"data row7 col3\" >-0.337277</td>\n",
       "                        <td id=\"T_950f5_row7_col4\" class=\"data row7 col4\" >0.739544</td>\n",
       "                        <td id=\"T_950f5_row7_col5\" class=\"data row7 col5\" >0.666973</td>\n",
       "                        <td id=\"T_950f5_row7_col6\" class=\"data row7 col6\" >0.498232</td>\n",
       "                        <td id=\"T_950f5_row7_col7\" class=\"data row7 col7\" >1.000000</td>\n",
       "                        <td id=\"T_950f5_row7_col8\" class=\"data row7 col8\" >0.623901</td>\n",
       "                        <td id=\"T_950f5_row7_col9\" class=\"data row7 col9\" >0.729549</td>\n",
       "                        <td id=\"T_950f5_row7_col10\" class=\"data row7 col10\" >0.286645</td>\n",
       "            </tr>\n",
       "            <tr>\n",
       "                        <th id=\"T_950f5_level0_row8\" class=\"row_heading level0 row8\" >BUI</th>\n",
       "                        <td id=\"T_950f5_row8_col0\" class=\"data row8 col0\" >0.469073</td>\n",
       "                        <td id=\"T_950f5_row8_col1\" class=\"data row8 col1\" >-0.332961</td>\n",
       "                        <td id=\"T_950f5_row8_col2\" class=\"data row8 col2\" >-0.024274</td>\n",
       "                        <td id=\"T_950f5_row8_col3\" class=\"data row8 col3\" >-0.271218</td>\n",
       "                        <td id=\"T_950f5_row8_col4\" class=\"data row8 col4\" >0.564666</td>\n",
       "                        <td id=\"T_950f5_row8_col5\" class=\"data row8 col5\" >0.984028</td>\n",
       "                        <td id=\"T_950f5_row8_col6\" class=\"data row8 col6\" >0.948133</td>\n",
       "                        <td id=\"T_950f5_row8_col7\" class=\"data row8 col7\" >0.623901</td>\n",
       "                        <td id=\"T_950f5_row8_col8\" class=\"data row8 col8\" >1.000000</td>\n",
       "                        <td id=\"T_950f5_row8_col9\" class=\"data row8 col9\" >0.558162</td>\n",
       "                        <td id=\"T_950f5_row8_col10\" class=\"data row8 col10\" >0.108929</td>\n",
       "            </tr>\n",
       "            <tr>\n",
       "                        <th id=\"T_950f5_level0_row9\" class=\"row_heading level0 row9\" >Classes</th>\n",
       "                        <td id=\"T_950f5_row9_col0\" class=\"data row9 col0\" >0.545191</td>\n",
       "                        <td id=\"T_950f5_row9_col1\" class=\"data row9 col1\" >-0.466885</td>\n",
       "                        <td id=\"T_950f5_row9_col2\" class=\"data row9 col2\" >-0.165150</td>\n",
       "                        <td id=\"T_950f5_row9_col3\" class=\"data row9 col3\" >-0.379779</td>\n",
       "                        <td id=\"T_950f5_row9_col4\" class=\"data row9 col4\" >0.776082</td>\n",
       "                        <td id=\"T_950f5_row9_col5\" class=\"data row9 col5\" >0.572174</td>\n",
       "                        <td id=\"T_950f5_row9_col6\" class=\"data row9 col6\" >0.478165</td>\n",
       "                        <td id=\"T_950f5_row9_col7\" class=\"data row9 col7\" >0.729549</td>\n",
       "                        <td id=\"T_950f5_row9_col8\" class=\"data row9 col8\" >0.558162</td>\n",
       "                        <td id=\"T_950f5_row9_col9\" class=\"data row9 col9\" >1.000000</td>\n",
       "                        <td id=\"T_950f5_row9_col10\" class=\"data row9 col10\" >0.179683</td>\n",
       "            </tr>\n",
       "            <tr>\n",
       "                        <th id=\"T_950f5_level0_row10\" class=\"row_heading level0 row10\" >Region</th>\n",
       "                        <td id=\"T_950f5_row10_col0\" class=\"data row10 col0\" >0.280393</td>\n",
       "                        <td id=\"T_950f5_row10_col1\" class=\"data row10 col1\" >-0.428045</td>\n",
       "                        <td id=\"T_950f5_row10_col2\" class=\"data row10 col2\" >-0.204352</td>\n",
       "                        <td id=\"T_950f5_row10_col3\" class=\"data row10 col3\" >-0.069696</td>\n",
       "                        <td id=\"T_950f5_row10_col4\" class=\"data row10 col4\" >0.232271</td>\n",
       "                        <td id=\"T_950f5_row10_col5\" class=\"data row10 col5\" >0.214006</td>\n",
       "                        <td id=\"T_950f5_row10_col6\" class=\"data row10 col6\" >-0.080107</td>\n",
       "                        <td id=\"T_950f5_row10_col7\" class=\"data row10 col7\" >0.286645</td>\n",
       "                        <td id=\"T_950f5_row10_col8\" class=\"data row10 col8\" >0.108929</td>\n",
       "                        <td id=\"T_950f5_row10_col9\" class=\"data row10 col9\" >0.179683</td>\n",
       "                        <td id=\"T_950f5_row10_col10\" class=\"data row10 col10\" >1.000000</td>\n",
       "            </tr>\n",
       "    </tbody></table>"
      ],
      "text/plain": [
       "<pandas.io.formats.style.Styler at 0x19c59fa0970>"
      ]
     },
     "execution_count": 16,
     "metadata": {},
     "output_type": "execute_result"
    }
   ],
   "source": [
    "correlation = X_train.corr()\n",
    "correlation.style.background_gradient(cmap ='coolwarm')"
   ]
  },
  {
   "cell_type": "code",
   "execution_count": 18,
   "id": "legal-drama",
   "metadata": {},
   "outputs": [],
   "source": [
    "#function  to handle multicoliinearity\n",
    "def correlation(df, seuil):\n",
    "    col_corr = set()\n",
    "    corr_matrix = df.corr()\n",
    "    for i in range(len(corr_matrix.columns)):\n",
    "        for j in range(i):\n",
    "            if abs(corr_matrix.iloc[i, j]) > seuil: \n",
    "                colname = corr_matrix.columns[i]\n",
    "                col_corr.add(colname)\n",
    "    return col_corr"
   ]
  },
  {
   "cell_type": "code",
   "execution_count": 24,
   "id": "wicked-howard",
   "metadata": {},
   "outputs": [
    {
     "data": {
      "text/plain": [
       "{'BUI', 'Classes', 'DC'}"
      ]
     },
     "execution_count": 24,
     "metadata": {},
     "output_type": "execute_result"
    }
   ],
   "source": [
    "correlate_feat = correlation(X_train, 0.75)\n",
    "correlate_feat "
   ]
  },
  {
   "cell_type": "code",
   "execution_count": 25,
   "id": "synthetic-geology",
   "metadata": {},
   "outputs": [
    {
     "name": "stderr",
     "output_type": "stream",
     "text": [
      "C:\\ProgramData\\Anaconda3\\lib\\site-packages\\pandas\\core\\frame.py:4308: SettingWithCopyWarning: \n",
      "A value is trying to be set on a copy of a slice from a DataFrame\n",
      "\n",
      "See the caveats in the documentation: https://pandas.pydata.org/pandas-docs/stable/user_guide/indexing.html#returning-a-view-versus-a-copy\n",
      "  return super().drop(\n"
     ]
    }
   ],
   "source": [
    "#dropping high correlated feature\n",
    "X_train.drop(correlate_feat, axis=1 , inplace=True)\n",
    "X_test.drop(correlate_feat, axis=1 , inplace=True)\n"
   ]
  },
  {
   "cell_type": "code",
   "execution_count": 26,
   "id": "raised-operations",
   "metadata": {},
   "outputs": [
    {
     "data": {
      "text/plain": [
       "((170, 8), (73, 8))"
      ]
     },
     "execution_count": 26,
     "metadata": {},
     "output_type": "execute_result"
    }
   ],
   "source": [
    "X_train.shape , X_test.shape"
   ]
  },
  {
   "cell_type": "markdown",
   "id": "rational-tournament",
   "metadata": {},
   "source": [
    "### Standardization"
   ]
  },
  {
   "cell_type": "code",
   "execution_count": 35,
   "id": "attractive-diabetes",
   "metadata": {},
   "outputs": [
    {
     "data": {
      "text/plain": [
       "Text(0.5, 1.0, 'Test data Before Scaling')"
      ]
     },
     "execution_count": 35,
     "metadata": {},
     "output_type": "execute_result"
    },
    {
     "data": {
      "image/png": "[encoded data removed]",
      "text/plain": [
       "<Figure size 1080x360 with 2 Axes>"
      ]
     },
     "metadata": {
      "needs_background": "light"
     },
     "output_type": "display_data"
    }
   ],
   "source": [
    "plt.subplots(figsize=(15, 5))\n",
    "plt.subplot(1,2,1)\n",
    "sns.boxplot(data=X_train)\n",
    "plt.title('Training data Before Scaling')\n",
    "plt.subplot(1,2,2)\n",
    "sns.boxplot(data=X_test)\n",
    "plt.title('Test data Before Scaling')"
   ]
  },
  {
   "cell_type": "markdown",
   "id": "played-fiction",
   "metadata": {},
   "source": [
    "### Applying StandarScaler"
   ]
  },
  {
   "cell_type": "code",
   "execution_count": 38,
   "id": "guided-jefferson",
   "metadata": {},
   "outputs": [],
   "source": [
    "def standardization(X_train,X_test):\n",
    "    scaler = StandardScaler()\n",
    "    X_train_scaled = scaler.fit_transform(X_train)\n",
    "    X_test_scaled = scaler.transform(X_test) # always apply transform on test data\n",
    "    return X_train_scaled , X_test_scaled    "
   ]
  },
  {
   "cell_type": "code",
   "execution_count": 39,
   "id": "authentic-resource",
   "metadata": {},
   "outputs": [],
   "source": [
    "X_train_scaled, X_test_scaled = standardization(X_train,X_test)"
   ]
  },
  {
   "cell_type": "markdown",
   "id": "touched-source",
   "metadata": {},
   "source": [
    "### Plotting"
   ]
  },
  {
   "cell_type": "code",
   "execution_count": 43,
   "id": "received-fifth",
   "metadata": {},
   "outputs": [
    {
     "data": {
      "text/plain": [
       "Text(0.5, 1.0, 'Test data Before Scaled')"
      ]
     },
     "execution_count": 43,
     "metadata": {},
     "output_type": "execute_result"
    },
    {
     "data": {
      "image/png": "[encoded data removed]",
      "text/plain": [
       "<Figure size 1080x360 with 2 Axes>"
      ]
     },
     "metadata": {
      "needs_background": "light"
     },
     "output_type": "display_data"
    }
   ],
   "source": [
    "plt.subplots(figsize=(15, 5))\n",
    "plt.subplot(1,2,1)\n",
    "sns.boxplot(data=X_train_scaled)\n",
    "plt.title('Training data  Scaled')\n",
    "plt.subplot(1,2,2)\n",
    "sns.boxplot(data=X_test_scaled)\n",
    "plt.title('Test data Before Scaled')"
   ]
  },
  {
   "cell_type": "markdown",
   "id": "norwegian-satisfaction",
   "metadata": {},
   "source": [
    "## REGRESSION"
   ]
  },
  {
   "cell_type": "markdown",
   "id": "welcome-decimal",
   "metadata": {},
   "source": [
    "**Task:**\n",
    "    For regression use \n",
    "    linear regression, \n",
    "    ridge regression and lasso\n",
    "regression, \n",
    "SVR, \n",
    "Decision tree regressor and random forest\n",
    "regressor along with cross validation and hyperparameter tuning.\n",
    "Try\n",
    "to showcase the MSE value for each model and try to find out the\n",
    "best possible model based on the R2 value."
   ]
  },
  {
   "cell_type": "markdown",
   "id": "elegant-chapel",
   "metadata": {},
   "source": [
    "### Linear Regression"
   ]
  },
  {
   "cell_type": "code",
   "execution_count": 44,
   "id": "seasonal-joint",
   "metadata": {},
   "outputs": [
    {
     "data": {
      "text/plain": [
       "LinearRegression()"
      ]
     },
     "execution_count": 44,
     "metadata": {},
     "output_type": "execute_result"
    }
   ],
   "source": [
    "line_reg = LinearRegression()\n",
    "line_reg.fit(X_train_scaled,y_train)\n"
   ]
  },
  {
   "cell_type": "code",
   "execution_count": 53,
   "id": "reduced-banking",
   "metadata": {},
   "outputs": [],
   "source": [
    "lr_predict = line_reg.predict(X_test_scaled)"
   ]
  },
  {
   "cell_type": "code",
   "execution_count": 68,
   "id": "quantitative-writer",
   "metadata": {},
   "outputs": [
    {
     "data": {
      "text/html": [
       "<div>\n",
       "<style scoped>\n",
       "    .dataframe tbody tr th:only-of-type {\n",
       "        vertical-align: middle;\n",
       "    }\n",
       "\n",
       "    .dataframe tbody tr th {\n",
       "        vertical-align: top;\n",
       "    }\n",
       "\n",
       "    .dataframe thead th {\n",
       "        text-align: right;\n",
       "    }\n",
       "</style>\n",
       "<table border=\"1\" class=\"dataframe\">\n",
       "  <thead>\n",
       "    <tr style=\"text-align: right;\">\n",
       "      <th></th>\n",
       "      <th>Predict Values</th>\n",
       "      <th>Actual Values</th>\n",
       "    </tr>\n",
       "  </thead>\n",
       "  <tbody>\n",
       "    <tr>\n",
       "      <th>59</th>\n",
       "      <td>10.980679</td>\n",
       "      <td>10.7</td>\n",
       "    </tr>\n",
       "    <tr>\n",
       "      <th>228</th>\n",
       "      <td>18.924592</td>\n",
       "      <td>19.3</td>\n",
       "    </tr>\n",
       "    <tr>\n",
       "      <th>78</th>\n",
       "      <td>14.343493</td>\n",
       "      <td>16.1</td>\n",
       "    </tr>\n",
       "    <tr>\n",
       "      <th>222</th>\n",
       "      <td>-0.363992</td>\n",
       "      <td>0.3</td>\n",
       "    </tr>\n",
       "    <tr>\n",
       "      <th>76</th>\n",
       "      <td>4.305979</td>\n",
       "      <td>4.2</td>\n",
       "    </tr>\n",
       "    <tr>\n",
       "      <th>...</th>\n",
       "      <td>...</td>\n",
       "      <td>...</td>\n",
       "    </tr>\n",
       "    <tr>\n",
       "      <th>41</th>\n",
       "      <td>1.658685</td>\n",
       "      <td>0.9</td>\n",
       "    </tr>\n",
       "    <tr>\n",
       "      <th>189</th>\n",
       "      <td>5.756711</td>\n",
       "      <td>5.9</td>\n",
       "    </tr>\n",
       "    <tr>\n",
       "      <th>94</th>\n",
       "      <td>-0.849309</td>\n",
       "      <td>0.0</td>\n",
       "    </tr>\n",
       "    <tr>\n",
       "      <th>9</th>\n",
       "      <td>1.886282</td>\n",
       "      <td>0.9</td>\n",
       "    </tr>\n",
       "    <tr>\n",
       "      <th>1</th>\n",
       "      <td>0.426925</td>\n",
       "      <td>0.4</td>\n",
       "    </tr>\n",
       "  </tbody>\n",
       "</table>\n",
       "<p>73 rows × 2 columns</p>\n",
       "</div>"
      ],
      "text/plain": [
       "     Predict Values  Actual Values\n",
       "59        10.980679           10.7\n",
       "228       18.924592           19.3\n",
       "78        14.343493           16.1\n",
       "222       -0.363992            0.3\n",
       "76         4.305979            4.2\n",
       "..              ...            ...\n",
       "41         1.658685            0.9\n",
       "189        5.756711            5.9\n",
       "94        -0.849309            0.0\n",
       "9          1.886282            0.9\n",
       "1          0.426925            0.4\n",
       "\n",
       "[73 rows x 2 columns]"
      ]
     },
     "execution_count": 68,
     "metadata": {},
     "output_type": "execute_result"
    }
   ],
   "source": [
    "pd.DataFrame(data={\"Predict Values\":lr_predict, \"Actual Values\":y_test})"
   ]
  },
  {
   "cell_type": "code",
   "execution_count": 70,
   "id": "acquired-thickness",
   "metadata": {},
   "outputs": [
    {
     "name": "stdout",
     "output_type": "stream",
     "text": [
      "MSE : 1.03000\n",
      "r2 score : 0.98050\n"
     ]
    }
   ],
   "source": [
    "MSE = mean_squared_error(y_test,lr_predict)\n",
    "r2 = r2_score(y_test,lr_predict)\n",
    "print('MSE : {:.5f}'.format(MSE))\n",
    "print('r2 score : {:.5f}'.format(r2))"
   ]
  },
  {
   "cell_type": "markdown",
   "id": "fixed-priority",
   "metadata": {},
   "source": [
    "### Ridge Regression"
   ]
  },
  {
   "cell_type": "code",
   "execution_count": 71,
   "id": "posted-snapshot",
   "metadata": {},
   "outputs": [
    {
     "name": "stdout",
     "output_type": "stream",
     "text": [
      "MSE : 1.07154\n",
      "r2 score : 0.97971\n"
     ]
    }
   ],
   "source": [
    "from sklearn.linear_model import Ridge\n",
    "ridge_reg = Ridge()\n",
    "ridge_reg.fit(X_train_scaled,y_train)\n",
    "ridge_predict = ridge_reg.predict(X_test_scaled)\n",
    "MSE = mean_squared_error(y_test,ridge_predict)\n",
    "r2 = r2_score(y_test,ridge_predict)\n",
    "print('MSE : {:.5f}'.format(MSE))\n",
    "print('r2 score : {:.5f}'.format(r2))"
   ]
  },
  {
   "cell_type": "code",
   "execution_count": 72,
   "id": "exciting-gather",
   "metadata": {},
   "outputs": [
    {
     "data": {
      "text/html": [
       "<div>\n",
       "<style scoped>\n",
       "    .dataframe tbody tr th:only-of-type {\n",
       "        vertical-align: middle;\n",
       "    }\n",
       "\n",
       "    .dataframe tbody tr th {\n",
       "        vertical-align: top;\n",
       "    }\n",
       "\n",
       "    .dataframe thead th {\n",
       "        text-align: right;\n",
       "    }\n",
       "</style>\n",
       "<table border=\"1\" class=\"dataframe\">\n",
       "  <thead>\n",
       "    <tr style=\"text-align: right;\">\n",
       "      <th></th>\n",
       "      <th>Predict Values</th>\n",
       "      <th>Actual Values</th>\n",
       "    </tr>\n",
       "  </thead>\n",
       "  <tbody>\n",
       "    <tr>\n",
       "      <th>59</th>\n",
       "      <td>10.952950</td>\n",
       "      <td>10.7</td>\n",
       "    </tr>\n",
       "    <tr>\n",
       "      <th>228</th>\n",
       "      <td>18.843674</td>\n",
       "      <td>19.3</td>\n",
       "    </tr>\n",
       "    <tr>\n",
       "      <th>78</th>\n",
       "      <td>14.319011</td>\n",
       "      <td>16.1</td>\n",
       "    </tr>\n",
       "    <tr>\n",
       "      <th>222</th>\n",
       "      <td>-0.373487</td>\n",
       "      <td>0.3</td>\n",
       "    </tr>\n",
       "    <tr>\n",
       "      <th>76</th>\n",
       "      <td>4.378888</td>\n",
       "      <td>4.2</td>\n",
       "    </tr>\n",
       "    <tr>\n",
       "      <th>...</th>\n",
       "      <td>...</td>\n",
       "      <td>...</td>\n",
       "    </tr>\n",
       "    <tr>\n",
       "      <th>41</th>\n",
       "      <td>1.665455</td>\n",
       "      <td>0.9</td>\n",
       "    </tr>\n",
       "    <tr>\n",
       "      <th>189</th>\n",
       "      <td>5.784773</td>\n",
       "      <td>5.9</td>\n",
       "    </tr>\n",
       "    <tr>\n",
       "      <th>94</th>\n",
       "      <td>-0.934998</td>\n",
       "      <td>0.0</td>\n",
       "    </tr>\n",
       "    <tr>\n",
       "      <th>9</th>\n",
       "      <td>1.864961</td>\n",
       "      <td>0.9</td>\n",
       "    </tr>\n",
       "    <tr>\n",
       "      <th>1</th>\n",
       "      <td>0.425463</td>\n",
       "      <td>0.4</td>\n",
       "    </tr>\n",
       "  </tbody>\n",
       "</table>\n",
       "<p>73 rows × 2 columns</p>\n",
       "</div>"
      ],
      "text/plain": [
       "     Predict Values  Actual Values\n",
       "59        10.952950           10.7\n",
       "228       18.843674           19.3\n",
       "78        14.319011           16.1\n",
       "222       -0.373487            0.3\n",
       "76         4.378888            4.2\n",
       "..              ...            ...\n",
       "41         1.665455            0.9\n",
       "189        5.784773            5.9\n",
       "94        -0.934998            0.0\n",
       "9          1.864961            0.9\n",
       "1          0.425463            0.4\n",
       "\n",
       "[73 rows x 2 columns]"
      ]
     },
     "execution_count": 72,
     "metadata": {},
     "output_type": "execute_result"
    }
   ],
   "source": [
    "pd.DataFrame(data={\"Predict Values\":ridge_predict, \"Actual Values\":y_test})"
   ]
  },
  {
   "cell_type": "markdown",
   "id": "tamil-divide",
   "metadata": {},
   "source": [
    "### Lasso Regression"
   ]
  },
  {
   "cell_type": "code",
   "execution_count": 86,
   "id": "purple-sewing",
   "metadata": {},
   "outputs": [
    {
     "name": "stdout",
     "output_type": "stream",
     "text": [
      "MSE : 2.53922\n",
      "r2 score : 0.95192\n"
     ]
    }
   ],
   "source": [
    "lasso_reg = Lasso()\n",
    "lasso_reg.fit(X_train_scaled,y_train)\n",
    "lasso_predict = lasso_reg.predict(X_test_scaled)\n",
    "MSE = mean_squared_error(y_test,lasso_predict)\n",
    "r2 = r2_score(y_test,lasso_predict)\n",
    "print('MSE : {:.5f}'.format(MSE))\n",
    "print('r2 score : {:.5f}'.format(r2))"
   ]
  },
  {
   "cell_type": "code",
   "execution_count": 74,
   "id": "color-pacific",
   "metadata": {},
   "outputs": [
    {
     "data": {
      "text/html": [
       "<div>\n",
       "<style scoped>\n",
       "    .dataframe tbody tr th:only-of-type {\n",
       "        vertical-align: middle;\n",
       "    }\n",
       "\n",
       "    .dataframe tbody tr th {\n",
       "        vertical-align: top;\n",
       "    }\n",
       "\n",
       "    .dataframe thead th {\n",
       "        text-align: right;\n",
       "    }\n",
       "</style>\n",
       "<table border=\"1\" class=\"dataframe\">\n",
       "  <thead>\n",
       "    <tr style=\"text-align: right;\">\n",
       "      <th></th>\n",
       "      <th>Predict Values</th>\n",
       "      <th>Actual Values</th>\n",
       "    </tr>\n",
       "  </thead>\n",
       "  <tbody>\n",
       "    <tr>\n",
       "      <th>59</th>\n",
       "      <td>10.952950</td>\n",
       "      <td>10.7</td>\n",
       "    </tr>\n",
       "    <tr>\n",
       "      <th>228</th>\n",
       "      <td>18.843674</td>\n",
       "      <td>19.3</td>\n",
       "    </tr>\n",
       "    <tr>\n",
       "      <th>78</th>\n",
       "      <td>14.319011</td>\n",
       "      <td>16.1</td>\n",
       "    </tr>\n",
       "    <tr>\n",
       "      <th>222</th>\n",
       "      <td>-0.373487</td>\n",
       "      <td>0.3</td>\n",
       "    </tr>\n",
       "    <tr>\n",
       "      <th>76</th>\n",
       "      <td>4.378888</td>\n",
       "      <td>4.2</td>\n",
       "    </tr>\n",
       "    <tr>\n",
       "      <th>...</th>\n",
       "      <td>...</td>\n",
       "      <td>...</td>\n",
       "    </tr>\n",
       "    <tr>\n",
       "      <th>41</th>\n",
       "      <td>1.665455</td>\n",
       "      <td>0.9</td>\n",
       "    </tr>\n",
       "    <tr>\n",
       "      <th>189</th>\n",
       "      <td>5.784773</td>\n",
       "      <td>5.9</td>\n",
       "    </tr>\n",
       "    <tr>\n",
       "      <th>94</th>\n",
       "      <td>-0.934998</td>\n",
       "      <td>0.0</td>\n",
       "    </tr>\n",
       "    <tr>\n",
       "      <th>9</th>\n",
       "      <td>1.864961</td>\n",
       "      <td>0.9</td>\n",
       "    </tr>\n",
       "    <tr>\n",
       "      <th>1</th>\n",
       "      <td>0.425463</td>\n",
       "      <td>0.4</td>\n",
       "    </tr>\n",
       "  </tbody>\n",
       "</table>\n",
       "<p>73 rows × 2 columns</p>\n",
       "</div>"
      ],
      "text/plain": [
       "     Predict Values  Actual Values\n",
       "59        10.952950           10.7\n",
       "228       18.843674           19.3\n",
       "78        14.319011           16.1\n",
       "222       -0.373487            0.3\n",
       "76         4.378888            4.2\n",
       "..              ...            ...\n",
       "41         1.665455            0.9\n",
       "189        5.784773            5.9\n",
       "94        -0.934998            0.0\n",
       "9          1.864961            0.9\n",
       "1          0.425463            0.4\n",
       "\n",
       "[73 rows x 2 columns]"
      ]
     },
     "execution_count": 74,
     "metadata": {},
     "output_type": "execute_result"
    }
   ],
   "source": [
    "pd.DataFrame(data={\"Predict Values\":lasso_predict, \"Actual Values\":y_test})"
   ]
  },
  {
   "cell_type": "markdown",
   "id": "intense-satellite",
   "metadata": {},
   "source": [
    "### Support Vector Regressor"
   ]
  },
  {
   "cell_type": "code",
   "execution_count": 75,
   "id": "ordered-coordinator",
   "metadata": {},
   "outputs": [
    {
     "name": "stdout",
     "output_type": "stream",
     "text": [
      "MSE : 9.61314\n",
      "r2 score : 0.81799\n"
     ]
    }
   ],
   "source": [
    "svr_reg = SVR()\n",
    "svr_reg.fit(X_train_scaled,y_train)\n",
    "svr_predict = svr_reg.predict(X_test_scaled)\n",
    "MSE = mean_squared_error(y_test,svr_predict)\n",
    "r2 = r2_score(y_test,svr_predict)\n",
    "print('MSE : {:.5f}'.format(MSE))\n",
    "print('r2 score : {:.5f}'.format(r2))"
   ]
  },
  {
   "cell_type": "code",
   "execution_count": 76,
   "id": "located-dining",
   "metadata": {},
   "outputs": [
    {
     "data": {
      "text/html": [
       "<div>\n",
       "<style scoped>\n",
       "    .dataframe tbody tr th:only-of-type {\n",
       "        vertical-align: middle;\n",
       "    }\n",
       "\n",
       "    .dataframe tbody tr th {\n",
       "        vertical-align: top;\n",
       "    }\n",
       "\n",
       "    .dataframe thead th {\n",
       "        text-align: right;\n",
       "    }\n",
       "</style>\n",
       "<table border=\"1\" class=\"dataframe\">\n",
       "  <thead>\n",
       "    <tr style=\"text-align: right;\">\n",
       "      <th></th>\n",
       "      <th>Predict Values</th>\n",
       "      <th>Actual Values</th>\n",
       "    </tr>\n",
       "  </thead>\n",
       "  <tbody>\n",
       "    <tr>\n",
       "      <th>59</th>\n",
       "      <td>10.321798</td>\n",
       "      <td>10.7</td>\n",
       "    </tr>\n",
       "    <tr>\n",
       "      <th>228</th>\n",
       "      <td>14.029248</td>\n",
       "      <td>19.3</td>\n",
       "    </tr>\n",
       "    <tr>\n",
       "      <th>78</th>\n",
       "      <td>14.511067</td>\n",
       "      <td>16.1</td>\n",
       "    </tr>\n",
       "    <tr>\n",
       "      <th>222</th>\n",
       "      <td>-0.388111</td>\n",
       "      <td>0.3</td>\n",
       "    </tr>\n",
       "    <tr>\n",
       "      <th>76</th>\n",
       "      <td>4.401582</td>\n",
       "      <td>4.2</td>\n",
       "    </tr>\n",
       "    <tr>\n",
       "      <th>...</th>\n",
       "      <td>...</td>\n",
       "      <td>...</td>\n",
       "    </tr>\n",
       "    <tr>\n",
       "      <th>41</th>\n",
       "      <td>1.250098</td>\n",
       "      <td>0.9</td>\n",
       "    </tr>\n",
       "    <tr>\n",
       "      <th>189</th>\n",
       "      <td>5.743210</td>\n",
       "      <td>5.9</td>\n",
       "    </tr>\n",
       "    <tr>\n",
       "      <th>94</th>\n",
       "      <td>0.857320</td>\n",
       "      <td>0.0</td>\n",
       "    </tr>\n",
       "    <tr>\n",
       "      <th>9</th>\n",
       "      <td>1.828150</td>\n",
       "      <td>0.9</td>\n",
       "    </tr>\n",
       "    <tr>\n",
       "      <th>1</th>\n",
       "      <td>-0.158136</td>\n",
       "      <td>0.4</td>\n",
       "    </tr>\n",
       "  </tbody>\n",
       "</table>\n",
       "<p>73 rows × 2 columns</p>\n",
       "</div>"
      ],
      "text/plain": [
       "     Predict Values  Actual Values\n",
       "59        10.321798           10.7\n",
       "228       14.029248           19.3\n",
       "78        14.511067           16.1\n",
       "222       -0.388111            0.3\n",
       "76         4.401582            4.2\n",
       "..              ...            ...\n",
       "41         1.250098            0.9\n",
       "189        5.743210            5.9\n",
       "94         0.857320            0.0\n",
       "9          1.828150            0.9\n",
       "1         -0.158136            0.4\n",
       "\n",
       "[73 rows x 2 columns]"
      ]
     },
     "execution_count": 76,
     "metadata": {},
     "output_type": "execute_result"
    }
   ],
   "source": [
    "pd.DataFrame(data={\"Predict Values\":svr_predict, \"Actual Values\":y_test})"
   ]
  },
  {
   "cell_type": "code",
   "execution_count": 79,
   "id": "afraid-david",
   "metadata": {},
   "outputs": [
    {
     "data": {
      "text/plain": [
       "Text(0.5, 1.0, 'Plotting predict value')"
      ]
     },
     "execution_count": 79,
     "metadata": {},
     "output_type": "execute_result"
    },
    {
     "data": {
      "image/png": "[encoded data removed]",
      "text/plain": [
       "<Figure size 432x288 with 1 Axes>"
      ]
     },
     "metadata": {
      "needs_background": "light"
     },
     "output_type": "display_data"
    }
   ],
   "source": [
    "_=sns.regplot(x=svr_predict , y = y_test)\n",
    "plt.title(\"Plotting predict value\")"
   ]
  },
  {
   "cell_type": "markdown",
   "id": "chinese-indonesian",
   "metadata": {},
   "source": [
    "### Decision tree regressor"
   ]
  },
  {
   "cell_type": "code",
   "execution_count": 80,
   "id": "appreciated-interest",
   "metadata": {},
   "outputs": [
    {
     "name": "stdout",
     "output_type": "stream",
     "text": [
      "MSE : 2.16315\n",
      "r2 score : 0.95904\n"
     ]
    }
   ],
   "source": [
    "decision_tree_reg = DecisionTreeRegressor()\n",
    "decision_tree_reg.fit(X_train_scaled,y_train)\n",
    "decision_tree_reg_predict = decision_tree_reg.predict(X_test_scaled)\n",
    "MSE = mean_squared_error(y_test,decision_tree_reg_predict)\n",
    "r2 = r2_score(y_test,decision_tree_reg_predict)\n",
    "print('MSE : {:.5f}'.format(MSE))\n",
    "print('r2 score : {:.5f}'.format(r2))"
   ]
  },
  {
   "cell_type": "code",
   "execution_count": 82,
   "id": "upper-extension",
   "metadata": {},
   "outputs": [
    {
     "data": {
      "text/plain": [
       "Text(0.5, 1.0, 'Plotting Decision tree predicted value')"
      ]
     },
     "execution_count": 82,
     "metadata": {},
     "output_type": "execute_result"
    },
    {
     "data": {
      "image/png": "[encoded data removed]",
      "text/plain": [
       "<Figure size 432x288 with 1 Axes>"
      ]
     },
     "metadata": {
      "needs_background": "light"
     },
     "output_type": "display_data"
    }
   ],
   "source": [
    "_=sns.regplot(x=decision_tree_reg_predict , y = y_test)\n",
    "plt.title(\"Plotting Decision tree predicted value\")"
   ]
  },
  {
   "cell_type": "markdown",
   "id": "apart-apple",
   "metadata": {},
   "source": [
    "### random forest regressor"
   ]
  },
  {
   "cell_type": "code",
   "execution_count": 83,
   "id": "unique-bishop",
   "metadata": {},
   "outputs": [
    {
     "name": "stdout",
     "output_type": "stream",
     "text": [
      "MSE : 1.17389\n",
      "r2 score : 0.97777\n"
     ]
    }
   ],
   "source": [
    "random_forest_reg = RandomForestRegressor()\n",
    "random_forest_reg.fit(X_train_scaled,y_train)\n",
    "random_forest_reg_predict = random_forest_reg.predict(X_test_scaled)\n",
    "MSE = mean_squared_error(y_test,random_forest_reg_predict)\n",
    "r2 = r2_score(y_test,random_forest_reg_predict)\n",
    "print('MSE : {:.5f}'.format(MSE))\n",
    "print('r2 score : {:.5f}'.format(r2))"
   ]
  },
  {
   "cell_type": "code",
   "execution_count": 85,
   "id": "instrumental-plasma",
   "metadata": {},
   "outputs": [
    {
     "data": {
      "image/png": "[encoded data removed]",
      "text/plain": [
       "<Figure size 432x288 with 1 Axes>"
      ]
     },
     "metadata": {
      "needs_background": "light"
     },
     "output_type": "display_data"
    }
   ],
   "source": [
    "_=sns.regplot(x= random_forest_reg_predict , y = y_test)\n",
    "_=plt.title(\"Plotting Random forest predicted value\")"
   ]
  },
  {
   "cell_type": "markdown",
   "id": "complete-lighter",
   "metadata": {},
   "source": [
    "### **R2 score value for each model**\n",
    "\n",
    "| Models     | R2 score  |\n",
    "| ----------- | ----------- |\n",
    "| Random Forest Regressor     | 97.77 % |\n",
    "| Linear Regression  | 98.05 |\n",
    "| Ridge Regression  |97.97  |\n",
    "| Lasso Regression  |  95.19|\n",
    "| Support Vector Regressor     | 81.79 |\n",
    "|Decision Tree Regressor       | 95.90 |"
   ]
  },
  {
   "cell_type": "markdown",
   "id": "through-wedding",
   "metadata": {},
   "source": [
    "* The best possible model based on the R2 value are : **Linear Regression and Ridge Regression Random Forest Regressor**"
   ]
  },
  {
   "cell_type": "markdown",
   "id": "dress-porcelain",
   "metadata": {},
   "source": [
    "# Hyperparameter tunning"
   ]
  },
  {
   "cell_type": "markdown",
   "id": "assumed-tracker",
   "metadata": {},
   "source": [
    "### Random Forest Regressor"
   ]
  },
  {
   "cell_type": "markdown",
   "id": "regulation-bones",
   "metadata": {},
   "source": [
    "Now we will be performing the tuning of hyperparameters of Random forest model. \n",
    "The hyperparameters that we will tune includes **max_features and the n_estimators.**<br>\n",
    "The **GridSearchCV()**  will be used to perform the hyperparameter tuning. "
   ]
  },
  {
   "cell_type": "code",
   "execution_count": 88,
   "id": "forty-graduate",
   "metadata": {},
   "outputs": [],
   "source": [
    "from sklearn.ensemble import RandomForestRegressor\n",
    "from sklearn.model_selection import GridSearchCV\n",
    "\n",
    "rf = RandomForestRegressor()\n",
    "max_features_range = np.arange(1,6,1)\n",
    "n_estimators_range = np.arange(10,210,10)\n",
    "param_grid = dict(max_features=max_features_range, n_estimators=n_estimators_range)\n",
    "grid = GridSearchCV(estimator=rf, param_grid=param_grid, cv=5)"
   ]
  },
  {
   "cell_type": "code",
   "execution_count": 89,
   "id": "informed-bowling",
   "metadata": {},
   "outputs": [
    {
     "data": {
      "text/plain": [
       "GridSearchCV(cv=5, estimator=RandomForestRegressor(),\n",
       "             param_grid={'max_features': array([1, 2, 3, 4, 5]),\n",
       "                         'n_estimators': array([ 10,  20,  30,  40,  50,  60,  70,  80,  90, 100, 110, 120, 130,\n",
       "       140, 150, 160, 170, 180, 190, 200])})"
      ]
     },
     "execution_count": 89,
     "metadata": {},
     "output_type": "execute_result"
    }
   ],
   "source": [
    "grid.fit(X_train_scaled,y_train)"
   ]
  },
  {
   "cell_type": "code",
   "execution_count": 91,
   "id": "improved-disorder",
   "metadata": {},
   "outputs": [
    {
     "name": "stdout",
     "output_type": "stream",
     "text": [
      "r2 score : 0.97588\n"
     ]
    }
   ],
   "source": [
    "best_rf_grid = grid.best_estimator_ \n",
    "best_rf_grid_predict = best_rf_grid.predict(X_test_scaled)\n",
    "r2 = r2_score(y_test,best_rf_grid_predict)\n",
    "print('r2 score : {:.5f}'.format(r2))\n"
   ]
  },
  {
   "cell_type": "markdown",
   "id": "alternate-nicholas",
   "metadata": {},
   "source": [
    "#### Ridge Regression tunning"
   ]
  },
  {
   "cell_type": "code",
   "execution_count": 92,
   "id": "described-index",
   "metadata": {},
   "outputs": [
    {
     "data": {
      "text/plain": [
       "GridSearchCV(cv=5, estimator=Ridge(), n_jobs=-1,\n",
       "             param_grid=[{'alpha': array([1.00000000e-11, 1.59160342e-11, 2.53320143e-11, 4.03185205e-11,\n",
       "       6.41710949e-11, 1.02134934e-10, 1.62558310e-10, 2.58728361e-10,\n",
       "       4.11792942e-10, 6.55411053e-10, 1.04315447e-09, 1.66028822e-09,\n",
       "       2.64252040e-09, 4.20584449e-09, 6.69403646e-09, 1.06542513e-08,\n",
       "       1.69573427e-08, 2.69893646e-08, 4.2956...\n",
       "       5.77388181e+06, 9.18973001e+06, 1.46264057e+07, 2.32794372e+07,\n",
       "       3.70516318e+07, 5.89715037e+07, 9.38592467e+07, 1.49386698e+08,\n",
       "       2.37764378e+08, 3.78426596e+08, 6.02305063e+08, 9.58630795e+08,\n",
       "       1.52576005e+09, 2.42840490e+09, 3.86505754e+09, 6.15163877e+09,\n",
       "       9.79096928e+09, 1.55833401e+10, 2.48024974e+10, 3.94757396e+10,\n",
       "       6.28297219e+10, 1.00000000e+11]),\n",
       "                          'solver': ['auto', 'svd', 'lsqr', 'sparse_cg', 'sag',\n",
       "                                     'saga', 'lbfgs']}])"
      ]
     },
     "execution_count": 92,
     "metadata": {},
     "output_type": "execute_result"
    }
   ],
   "source": [
    "from sklearn.exceptions import FitFailedWarning, ConvergenceWarning\n",
    "import warnings \n",
    "warnings.filterwarnings(action= 'ignore')\n",
    "\n",
    "params = [{'alpha': (np.logspace(-11, 11, 110)), \n",
    "                'solver': ['auto', 'svd','lsqr', 'sparse_cg', 'sag', 'saga', 'lbfgs']}] \n",
    "\n",
    "ridge = Ridge()\n",
    "grid_ridge = GridSearchCV(estimator = ridge, param_grid= params, cv=5, n_jobs= -1)\n",
    "grid_ridge.fit(X_train_scaled, y_train)"
   ]
  },
  {
   "cell_type": "code",
   "execution_count": 93,
   "id": "foster-premium",
   "metadata": {},
   "outputs": [
    {
     "name": "stdout",
     "output_type": "stream",
     "text": [
      "r2 score : 0.97777\n"
     ]
    }
   ],
   "source": [
    "best_ridge_grid = grid_ridge.best_estimator_ \n",
    "best_ridge_grid_predict = best_ridge_grid.predict(X_test_scaled)\n",
    "r2 = r2_score(y_test,best_ridge_grid_predict)\n",
    "print('r2 score : {:.5f}'.format(r2))"
   ]
  },
  {
   "cell_type": "markdown",
   "id": "elect-roommate",
   "metadata": {},
   "source": [
    "# Features selection"
   ]
  },
  {
   "cell_type": "code",
   "execution_count": 95,
   "id": "lesbian-dominant",
   "metadata": {},
   "outputs": [
    {
     "data": {
      "text/plain": [
       "array([0.01425294, 0.01811717, 0.00660987, 0.02510108, 0.25728928,\n",
       "       0.20433358, 0.47218649, 0.00210959])"
      ]
     },
     "execution_count": 95,
     "metadata": {},
     "output_type": "execute_result"
    }
   ],
   "source": [
    "best_rf_grid.feature_importances_"
   ]
  },
  {
   "cell_type": "code",
   "execution_count": 101,
   "id": "greenhouse-sherman",
   "metadata": {},
   "outputs": [
    {
     "data": {
      "text/html": [
       "<div>\n",
       "<style scoped>\n",
       "    .dataframe tbody tr th:only-of-type {\n",
       "        vertical-align: middle;\n",
       "    }\n",
       "\n",
       "    .dataframe tbody tr th {\n",
       "        vertical-align: top;\n",
       "    }\n",
       "\n",
       "    .dataframe thead th {\n",
       "        text-align: right;\n",
       "    }\n",
       "</style>\n",
       "<table border=\"1\" class=\"dataframe\">\n",
       "  <thead>\n",
       "    <tr style=\"text-align: right;\">\n",
       "      <th></th>\n",
       "      <th>feature</th>\n",
       "      <th>importance</th>\n",
       "    </tr>\n",
       "  </thead>\n",
       "  <tbody>\n",
       "    <tr>\n",
       "      <th>6</th>\n",
       "      <td>ISI</td>\n",
       "      <td>0.472186</td>\n",
       "    </tr>\n",
       "    <tr>\n",
       "      <th>4</th>\n",
       "      <td>FFMC</td>\n",
       "      <td>0.257289</td>\n",
       "    </tr>\n",
       "    <tr>\n",
       "      <th>5</th>\n",
       "      <td>DMC</td>\n",
       "      <td>0.204334</td>\n",
       "    </tr>\n",
       "    <tr>\n",
       "      <th>3</th>\n",
       "      <td>Rain</td>\n",
       "      <td>0.025101</td>\n",
       "    </tr>\n",
       "    <tr>\n",
       "      <th>1</th>\n",
       "      <td>RH</td>\n",
       "      <td>0.018117</td>\n",
       "    </tr>\n",
       "    <tr>\n",
       "      <th>0</th>\n",
       "      <td>Temperature</td>\n",
       "      <td>0.014253</td>\n",
       "    </tr>\n",
       "    <tr>\n",
       "      <th>2</th>\n",
       "      <td>Ws</td>\n",
       "      <td>0.006610</td>\n",
       "    </tr>\n",
       "    <tr>\n",
       "      <th>7</th>\n",
       "      <td>Region</td>\n",
       "      <td>0.002110</td>\n",
       "    </tr>\n",
       "  </tbody>\n",
       "</table>\n",
       "</div>"
      ],
      "text/plain": [
       "       feature  importance\n",
       "6          ISI    0.472186\n",
       "4         FFMC    0.257289\n",
       "5          DMC    0.204334\n",
       "3         Rain    0.025101\n",
       "1           RH    0.018117\n",
       "0  Temperature    0.014253\n",
       "2           Ws    0.006610\n",
       "7       Region    0.002110"
      ]
     },
     "execution_count": 101,
     "metadata": {},
     "output_type": "execute_result"
    }
   ],
   "source": [
    "feature_importances = best_rf_grid.feature_importances_\n",
    "importance_df = pd.DataFrame({\n",
    "    'feature': X_train.columns,\n",
    "    'importance': feature_importances\n",
    "}).sort_values('importance', ascending= False)\n",
    "importance_df"
   ]
  },
  {
   "cell_type": "code",
   "execution_count": 104,
   "id": "adopted-titanium",
   "metadata": {},
   "outputs": [
    {
     "data": {
      "text/plain": [
       "Text(0, 0.5, 'Features')"
      ]
     },
     "execution_count": 104,
     "metadata": {},
     "output_type": "execute_result"
    },
    {
     "data": {
      "image/png": "[encoded data removed]",
      "text/plain": [
       "<Figure size 864x432 with 1 Axes>"
      ]
     },
     "metadata": {},
     "output_type": "display_data"
    }
   ],
   "source": [
    "plt.figure(figsize=(12,6))\n",
    "sns.set_style('whitegrid')\n",
    "ax = sns.barplot(data=importance_df, x='importance', y='feature',ec = 'black')\n",
    "ax.set_title('Top 10 Important Features', weight='bold',fontsize = 15)\n",
    "ax.set_xlabel('Feature Importance %',weight='bold')\n",
    "ax.set_ylabel('Features',weight='bold')"
   ]
  },
  {
   "cell_type": "markdown",
   "id": "respiratory-invite",
   "metadata": {},
   "source": [
    "\" to be continued !\""
   ]
  },
  {
   "cell_type": "markdown",
   "id": "commercial-large",
   "metadata": {},
   "source": [
    "# CLASSIFICATION"
   ]
  },
  {
   "cell_type": "code",
   "execution_count": null,
   "id": "integrated-lemon",
   "metadata": {},
   "outputs": [],
   "source": []
  },
  {
   "cell_type": "markdown",
   "id": "challenging-footwear",
   "metadata": {},
   "source": [
    "\n",
    "In classification models try to use logistic regression, SVM, decision tree, naive bayes and \n",
    "random forest along with hyperparametertuning and cross validation and print your classification report and \n",
    "showcase the best possible model based on that report."
   ]
  }
 ],
 "metadata": {
  "kernelspec": {
   "display_name": "Python 3",
   "language": "python",
   "name": "python3"
  },
  "language_info": {
   "codemirror_mode": {
    "name": "ipython",
    "version": 3
   },
   "file_extension": ".py",
   "mimetype": "text/x-python",
   "name": "python",
   "nbconvert_exporter": "python",
   "pygments_lexer": "ipython3",
   "version": "3.8.8"
  }
 },
 "nbformat": 4,
 "nbformat_minor": 5
}
